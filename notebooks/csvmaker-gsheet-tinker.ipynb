{
 "cells": [
  {
   "cell_type": "markdown",
   "metadata": {},
   "source": [
    "## Packages"
   ]
  },
  {
   "cell_type": "markdown",
   "metadata": {},
   "source": [
    "From termainal I did:\n",
    "\n",
    "```\n",
    "pipenv install\n",
    "pipenv install jupyter pymysql sqlalchemy requests\n",
    "```\n"
   ]
  },
  {
   "cell_type": "code",
   "execution_count": 1,
   "metadata": {},
   "outputs": [],
   "source": [
    "import pymysql.cursors\n",
    "import requests\n",
    "from datetime import datetime\n",
    "from sqlalchemy import create_engine\n",
    "import hashlib \n",
    "import os\n",
    "import json\n",
    "import time\n",
    "from collections import defaultdict\n",
    "from flask import jsonify\n",
    "import re\n",
    "import pandas as pd\n",
    "from gspread_pandas import Spread, Client\n",
    "\n",
    "# variables we'll need\n",
    "host = os.environ['DBHOST']\n",
    "port = 3306\n",
    "dbname = \"collaborate\"\n",
    "user = os.environ['DBUSER']\n",
    "password = os.environ['DBPASSWORD']"
   ]
  },
  {
   "cell_type": "code",
   "execution_count": 2,
   "metadata": {},
   "outputs": [],
   "source": [
    "#### Main function ####\n",
    "\n",
    "def handler(incoming):\n",
    "    \n",
    "    ## Put code here\n",
    "    \n",
    "    \n",
    "    return True"
   ]
  },
  {
   "cell_type": "code",
   "execution_count": 3,
   "metadata": {},
   "outputs": [],
   "source": [
    "########"
   ]
  },
  {
   "cell_type": "markdown",
   "metadata": {},
   "source": [
    "## Get list of projects"
   ]
  },
  {
   "cell_type": "code",
   "execution_count": 4,
   "metadata": {},
   "outputs": [],
   "source": [
    "main_spread = Spread('1wZDpHfIqKBEhmS_F485kFKmrBUAbrfMqu2HW4NOY6BE')"
   ]
  },
  {
   "cell_type": "code",
   "execution_count": 5,
   "metadata": {},
   "outputs": [],
   "source": [
    "project_list = main_spread.sheet_to_df(index=0)"
   ]
  },
  {
   "cell_type": "code",
   "execution_count": 6,
   "metadata": {},
   "outputs": [
    {
     "data": {
      "text/html": [
       "<div>\n",
       "<style scoped>\n",
       "    .dataframe tbody tr th:only-of-type {\n",
       "        vertical-align: middle;\n",
       "    }\n",
       "\n",
       "    .dataframe tbody tr th {\n",
       "        vertical-align: top;\n",
       "    }\n",
       "\n",
       "    .dataframe thead th {\n",
       "        text-align: right;\n",
       "    }\n",
       "</style>\n",
       "<table border=\"1\" class=\"dataframe\">\n",
       "  <thead>\n",
       "    <tr style=\"text-align: right;\">\n",
       "      <th></th>\n",
       "      <th>friendly_name</th>\n",
       "      <th>dialogflow_project_id</th>\n",
       "      <th>google_spreadsheet_id</th>\n",
       "    </tr>\n",
       "  </thead>\n",
       "  <tbody>\n",
       "    <tr>\n",
       "      <th>0</th>\n",
       "      <td>Fruit Test</td>\n",
       "      <td>propublicafruittest-pyrata</td>\n",
       "      <td>1uHvY_Z0lpGdvAgkfTt-sNXMe5yGOiq0NZJju0aLej1E</td>\n",
       "    </tr>\n",
       "  </tbody>\n",
       "</table>\n",
       "</div>"
      ],
      "text/plain": [
       "  friendly_name       dialogflow_project_id  \\\n",
       "0    Fruit Test  propublicafruittest-pyrata   \n",
       "\n",
       "                          google_spreadsheet_id  \n",
       "0  1uHvY_Z0lpGdvAgkfTt-sNXMe5yGOiq0NZJju0aLej1E  "
      ]
     },
     "execution_count": 6,
     "metadata": {},
     "output_type": "execute_result"
    }
   ],
   "source": [
    "project_list"
   ]
  },
  {
   "cell_type": "code",
   "execution_count": 7,
   "metadata": {},
   "outputs": [],
   "source": [
    "# create sqlalchemy engine\n",
    "engine = create_engine(\"mysql+pymysql://{user}:{pw}@{host}/{db}\"\n",
    "                   .format(user=user,\n",
    "                           pw=password,\n",
    "                           host=host,\n",
    "                           db=dbname))"
   ]
  },
  {
   "cell_type": "code",
   "execution_count": null,
   "metadata": {},
   "outputs": [],
   "source": []
  },
  {
   "cell_type": "code",
   "execution_count": null,
   "metadata": {},
   "outputs": [],
   "source": []
  },
  {
   "cell_type": "code",
   "execution_count": 8,
   "metadata": {},
   "outputs": [],
   "source": [
    "# this will become a loop of projects pulled from a \n",
    "# master google spreadsheet\n",
    "project = \"propublicafruittest-pyrata\"\n",
    "spreadsheet_id = \"1uHvY_Z0lpGdvAgkfTt-sNXMe5yGOiq0NZJju0aLej1E\""
   ]
  },
  {
   "cell_type": "code",
   "execution_count": 9,
   "metadata": {},
   "outputs": [],
   "source": [
    "# Get the data we need\n",
    "\n",
    "# open the database connection\n",
    "dbConnection    = engine.connect()\n",
    "\n",
    "df = pd.read_sql(f\"SELECT `identifier`, `item_key`, `item_value` FROM `data_pieces` WHERE `project` = '{project}'\", dbConnection)\n",
    "columns_df = pd.read_sql(f\"SELECT * FROM `column_tracker` WHERE `project` = '{project}'\", dbConnection)\n",
    "text_df = pd.read_sql(f\"SELECT * FROM `text_log` WHERE `project` = '{project}'\", dbConnection)\n",
    "first_contact_df = pd.read_sql(f\"SELECT * FROM `first_contact` WHERE `project` = '{project}'\", dbConnection)\n",
    "\n",
    "dbConnection.close()"
   ]
  },
  {
   "cell_type": "code",
   "execution_count": 10,
   "metadata": {},
   "outputs": [],
   "source": [
    "pivoted = df.pivot(index='identifier', columns='item_key', values=['item_value'])"
   ]
  },
  {
   "cell_type": "code",
   "execution_count": 11,
   "metadata": {},
   "outputs": [
    {
     "data": {
      "text/html": [
       "<div>\n",
       "<style scoped>\n",
       "    .dataframe tbody tr th:only-of-type {\n",
       "        vertical-align: middle;\n",
       "    }\n",
       "\n",
       "    .dataframe tbody tr th {\n",
       "        vertical-align: top;\n",
       "    }\n",
       "\n",
       "    .dataframe thead tr th {\n",
       "        text-align: left;\n",
       "    }\n",
       "\n",
       "    .dataframe thead tr:last-of-type th {\n",
       "        text-align: right;\n",
       "    }\n",
       "</style>\n",
       "<table border=\"1\" class=\"dataframe\">\n",
       "  <thead>\n",
       "    <tr>\n",
       "      <th></th>\n",
       "      <th colspan=\"5\" halign=\"left\">item_value</th>\n",
       "    </tr>\n",
       "    <tr>\n",
       "      <th>item_key</th>\n",
       "      <th>Default Welcome Intent</th>\n",
       "      <th>Get City</th>\n",
       "      <th>Get Fruit</th>\n",
       "      <th>fruit</th>\n",
       "      <th>geo-city</th>\n",
       "    </tr>\n",
       "    <tr>\n",
       "      <th>identifier</th>\n",
       "      <th></th>\n",
       "      <th></th>\n",
       "      <th></th>\n",
       "      <th></th>\n",
       "      <th></th>\n",
       "    </tr>\n",
       "  </thead>\n",
       "  <tbody>\n",
       "    <tr>\n",
       "      <th>test-session-7e9945fa1a0a</th>\n",
       "      <td>Hola</td>\n",
       "      <td>NaN</td>\n",
       "      <td>NaN</td>\n",
       "      <td>NaN</td>\n",
       "      <td>NaN</td>\n",
       "    </tr>\n",
       "    <tr>\n",
       "      <th>test-session-f7dc5a63848f</th>\n",
       "      <td>hello</td>\n",
       "      <td>Madison</td>\n",
       "      <td>Grapes</td>\n",
       "      <td>Grape</td>\n",
       "      <td>Madison</td>\n",
       "    </tr>\n",
       "  </tbody>\n",
       "</table>\n",
       "</div>"
      ],
      "text/plain": [
       "                                      item_value                            \\\n",
       "item_key                  Default Welcome Intent Get City Get Fruit  fruit   \n",
       "identifier                                                                   \n",
       "test-session-7e9945fa1a0a                   Hola      NaN       NaN    NaN   \n",
       "test-session-f7dc5a63848f                  hello  Madison    Grapes  Grape   \n",
       "\n",
       "                                    \n",
       "item_key                  geo-city  \n",
       "identifier                          \n",
       "test-session-7e9945fa1a0a      NaN  \n",
       "test-session-f7dc5a63848f  Madison  "
      ]
     },
     "execution_count": 11,
     "metadata": {},
     "output_type": "execute_result"
    }
   ],
   "source": [
    "pivoted"
   ]
  },
  {
   "cell_type": "code",
   "execution_count": 12,
   "metadata": {},
   "outputs": [],
   "source": [
    "pivoted.columns = pivoted.columns.get_level_values(1)\n",
    "pivoted.reset_index(inplace=True) "
   ]
  },
  {
   "cell_type": "code",
   "execution_count": 13,
   "metadata": {},
   "outputs": [
    {
     "data": {
      "text/html": [
       "<div>\n",
       "<style scoped>\n",
       "    .dataframe tbody tr th:only-of-type {\n",
       "        vertical-align: middle;\n",
       "    }\n",
       "\n",
       "    .dataframe tbody tr th {\n",
       "        vertical-align: top;\n",
       "    }\n",
       "\n",
       "    .dataframe thead th {\n",
       "        text-align: right;\n",
       "    }\n",
       "</style>\n",
       "<table border=\"1\" class=\"dataframe\">\n",
       "  <thead>\n",
       "    <tr style=\"text-align: right;\">\n",
       "      <th>item_key</th>\n",
       "      <th>identifier</th>\n",
       "      <th>Default Welcome Intent</th>\n",
       "      <th>Get City</th>\n",
       "      <th>Get Fruit</th>\n",
       "      <th>fruit</th>\n",
       "      <th>geo-city</th>\n",
       "    </tr>\n",
       "  </thead>\n",
       "  <tbody>\n",
       "    <tr>\n",
       "      <th>0</th>\n",
       "      <td>test-session-7e9945fa1a0a</td>\n",
       "      <td>Hola</td>\n",
       "      <td>NaN</td>\n",
       "      <td>NaN</td>\n",
       "      <td>NaN</td>\n",
       "      <td>NaN</td>\n",
       "    </tr>\n",
       "    <tr>\n",
       "      <th>1</th>\n",
       "      <td>test-session-f7dc5a63848f</td>\n",
       "      <td>hello</td>\n",
       "      <td>Madison</td>\n",
       "      <td>Grapes</td>\n",
       "      <td>Grape</td>\n",
       "      <td>Madison</td>\n",
       "    </tr>\n",
       "  </tbody>\n",
       "</table>\n",
       "</div>"
      ],
      "text/plain": [
       "item_key                 identifier Default Welcome Intent Get City Get Fruit  \\\n",
       "0         test-session-7e9945fa1a0a                   Hola      NaN       NaN   \n",
       "1         test-session-f7dc5a63848f                  hello  Madison    Grapes   \n",
       "\n",
       "item_key  fruit geo-city  \n",
       "0           NaN      NaN  \n",
       "1         Grape  Madison  "
      ]
     },
     "execution_count": 13,
     "metadata": {},
     "output_type": "execute_result"
    }
   ],
   "source": [
    "pivoted"
   ]
  },
  {
   "cell_type": "code",
   "execution_count": 14,
   "metadata": {},
   "outputs": [
    {
     "data": {
      "text/plain": [
       "Index(['identifier', 'Default Welcome Intent', 'Get City', 'Get Fruit',\n",
       "       'fruit', 'geo-city'],\n",
       "      dtype='object', name='item_key')"
      ]
     },
     "execution_count": 14,
     "metadata": {},
     "output_type": "execute_result"
    }
   ],
   "source": [
    "pivoted.columns"
   ]
  },
  {
   "cell_type": "code",
   "execution_count": 15,
   "metadata": {},
   "outputs": [],
   "source": [
    "columns_df.sort_values(by=['created_at'], inplace=True)"
   ]
  },
  {
   "cell_type": "code",
   "execution_count": 16,
   "metadata": {},
   "outputs": [],
   "source": [
    "ordered_columns = columns_df['col'].tolist()"
   ]
  },
  {
   "cell_type": "code",
   "execution_count": 17,
   "metadata": {},
   "outputs": [],
   "source": [
    "ordered_columns.insert(0, \"identifier\")"
   ]
  },
  {
   "cell_type": "code",
   "execution_count": 18,
   "metadata": {},
   "outputs": [
    {
     "data": {
      "text/plain": [
       "['identifier',\n",
       " 'Default Welcome Intent',\n",
       " 'geo-city',\n",
       " 'Get City',\n",
       " 'fruit',\n",
       " 'Get Fruit']"
      ]
     },
     "execution_count": 18,
     "metadata": {},
     "output_type": "execute_result"
    }
   ],
   "source": [
    "ordered_columns"
   ]
  },
  {
   "cell_type": "code",
   "execution_count": 19,
   "metadata": {},
   "outputs": [],
   "source": [
    "pivoted_ordered = pivoted[ordered_columns]"
   ]
  },
  {
   "cell_type": "code",
   "execution_count": 20,
   "metadata": {},
   "outputs": [
    {
     "data": {
      "text/html": [
       "<div>\n",
       "<style scoped>\n",
       "    .dataframe tbody tr th:only-of-type {\n",
       "        vertical-align: middle;\n",
       "    }\n",
       "\n",
       "    .dataframe tbody tr th {\n",
       "        vertical-align: top;\n",
       "    }\n",
       "\n",
       "    .dataframe thead th {\n",
       "        text-align: right;\n",
       "    }\n",
       "</style>\n",
       "<table border=\"1\" class=\"dataframe\">\n",
       "  <thead>\n",
       "    <tr style=\"text-align: right;\">\n",
       "      <th>item_key</th>\n",
       "      <th>identifier</th>\n",
       "      <th>Default Welcome Intent</th>\n",
       "      <th>geo-city</th>\n",
       "      <th>Get City</th>\n",
       "      <th>fruit</th>\n",
       "      <th>Get Fruit</th>\n",
       "    </tr>\n",
       "  </thead>\n",
       "  <tbody>\n",
       "    <tr>\n",
       "      <th>0</th>\n",
       "      <td>test-session-7e9945fa1a0a</td>\n",
       "      <td>Hola</td>\n",
       "      <td>NaN</td>\n",
       "      <td>NaN</td>\n",
       "      <td>NaN</td>\n",
       "      <td>NaN</td>\n",
       "    </tr>\n",
       "    <tr>\n",
       "      <th>1</th>\n",
       "      <td>test-session-f7dc5a63848f</td>\n",
       "      <td>hello</td>\n",
       "      <td>Madison</td>\n",
       "      <td>Madison</td>\n",
       "      <td>Grape</td>\n",
       "      <td>Grapes</td>\n",
       "    </tr>\n",
       "  </tbody>\n",
       "</table>\n",
       "</div>"
      ],
      "text/plain": [
       "item_key                 identifier Default Welcome Intent geo-city Get City  \\\n",
       "0         test-session-7e9945fa1a0a                   Hola      NaN      NaN   \n",
       "1         test-session-f7dc5a63848f                  hello  Madison  Madison   \n",
       "\n",
       "item_key  fruit Get Fruit  \n",
       "0           NaN       NaN  \n",
       "1         Grape    Grapes  "
      ]
     },
     "execution_count": 20,
     "metadata": {},
     "output_type": "execute_result"
    }
   ],
   "source": [
    "pivoted_ordered"
   ]
  },
  {
   "cell_type": "code",
   "execution_count": 21,
   "metadata": {},
   "outputs": [
    {
     "data": {
      "text/html": [
       "<div>\n",
       "<style scoped>\n",
       "    .dataframe tbody tr th:only-of-type {\n",
       "        vertical-align: middle;\n",
       "    }\n",
       "\n",
       "    .dataframe tbody tr th {\n",
       "        vertical-align: top;\n",
       "    }\n",
       "\n",
       "    .dataframe thead th {\n",
       "        text-align: right;\n",
       "    }\n",
       "</style>\n",
       "<table border=\"1\" class=\"dataframe\">\n",
       "  <thead>\n",
       "    <tr style=\"text-align: right;\">\n",
       "      <th></th>\n",
       "      <th>id</th>\n",
       "      <th>created_at</th>\n",
       "      <th>project</th>\n",
       "      <th>identifier</th>\n",
       "      <th>raw_text</th>\n",
       "    </tr>\n",
       "  </thead>\n",
       "  <tbody>\n",
       "    <tr>\n",
       "      <th>0</th>\n",
       "      <td>1</td>\n",
       "      <td>2020-07-14 11:46:36</td>\n",
       "      <td>propublicafruittest-pyrata</td>\n",
       "      <td>test-session-7e9945fa1a0a</td>\n",
       "      <td>Hola</td>\n",
       "    </tr>\n",
       "    <tr>\n",
       "      <th>1</th>\n",
       "      <td>2</td>\n",
       "      <td>2020-07-14 17:50:11</td>\n",
       "      <td>propublicafruittest-pyrata</td>\n",
       "      <td>test-session-f7dc5a63848f</td>\n",
       "      <td>hello</td>\n",
       "    </tr>\n",
       "    <tr>\n",
       "      <th>2</th>\n",
       "      <td>3</td>\n",
       "      <td>2020-07-14 17:50:34</td>\n",
       "      <td>propublicafruittest-pyrata</td>\n",
       "      <td>test-session-f7dc5a63848f</td>\n",
       "      <td>Madison</td>\n",
       "    </tr>\n",
       "    <tr>\n",
       "      <th>3</th>\n",
       "      <td>4</td>\n",
       "      <td>2020-07-14 17:50:40</td>\n",
       "      <td>propublicafruittest-pyrata</td>\n",
       "      <td>test-session-f7dc5a63848f</td>\n",
       "      <td>Grapes</td>\n",
       "    </tr>\n",
       "  </tbody>\n",
       "</table>\n",
       "</div>"
      ],
      "text/plain": [
       "   id          created_at                     project  \\\n",
       "0   1 2020-07-14 11:46:36  propublicafruittest-pyrata   \n",
       "1   2 2020-07-14 17:50:11  propublicafruittest-pyrata   \n",
       "2   3 2020-07-14 17:50:34  propublicafruittest-pyrata   \n",
       "3   4 2020-07-14 17:50:40  propublicafruittest-pyrata   \n",
       "\n",
       "                  identifier raw_text  \n",
       "0  test-session-7e9945fa1a0a     Hola  \n",
       "1  test-session-f7dc5a63848f    hello  \n",
       "2  test-session-f7dc5a63848f  Madison  \n",
       "3  test-session-f7dc5a63848f   Grapes  "
      ]
     },
     "execution_count": 21,
     "metadata": {},
     "output_type": "execute_result"
    }
   ],
   "source": [
    "text_df"
   ]
  },
  {
   "cell_type": "code",
   "execution_count": 22,
   "metadata": {},
   "outputs": [],
   "source": [
    "text_concat = text_df.groupby(['identifier'])['raw_text'].apply(' | '.join).reset_index()\n",
    "\n"
   ]
  },
  {
   "cell_type": "code",
   "execution_count": 23,
   "metadata": {},
   "outputs": [
    {
     "data": {
      "text/html": [
       "<div>\n",
       "<style scoped>\n",
       "    .dataframe tbody tr th:only-of-type {\n",
       "        vertical-align: middle;\n",
       "    }\n",
       "\n",
       "    .dataframe tbody tr th {\n",
       "        vertical-align: top;\n",
       "    }\n",
       "\n",
       "    .dataframe thead th {\n",
       "        text-align: right;\n",
       "    }\n",
       "</style>\n",
       "<table border=\"1\" class=\"dataframe\">\n",
       "  <thead>\n",
       "    <tr style=\"text-align: right;\">\n",
       "      <th></th>\n",
       "      <th>identifier</th>\n",
       "      <th>raw_text</th>\n",
       "    </tr>\n",
       "  </thead>\n",
       "  <tbody>\n",
       "    <tr>\n",
       "      <th>0</th>\n",
       "      <td>test-session-7e9945fa1a0a</td>\n",
       "      <td>Hola</td>\n",
       "    </tr>\n",
       "    <tr>\n",
       "      <th>1</th>\n",
       "      <td>test-session-f7dc5a63848f</td>\n",
       "      <td>hello | Madison | Grapes</td>\n",
       "    </tr>\n",
       "  </tbody>\n",
       "</table>\n",
       "</div>"
      ],
      "text/plain": [
       "                  identifier                  raw_text\n",
       "0  test-session-7e9945fa1a0a                      Hola\n",
       "1  test-session-f7dc5a63848f  hello | Madison | Grapes"
      ]
     },
     "execution_count": 23,
     "metadata": {},
     "output_type": "execute_result"
    }
   ],
   "source": [
    "text_concat"
   ]
  },
  {
   "cell_type": "code",
   "execution_count": 24,
   "metadata": {},
   "outputs": [],
   "source": [
    "merge1 = pd.merge(pivoted_ordered, text_concat, on=\"identifier\")"
   ]
  },
  {
   "cell_type": "code",
   "execution_count": 25,
   "metadata": {},
   "outputs": [
    {
     "data": {
      "text/html": [
       "<div>\n",
       "<style scoped>\n",
       "    .dataframe tbody tr th:only-of-type {\n",
       "        vertical-align: middle;\n",
       "    }\n",
       "\n",
       "    .dataframe tbody tr th {\n",
       "        vertical-align: top;\n",
       "    }\n",
       "\n",
       "    .dataframe thead th {\n",
       "        text-align: right;\n",
       "    }\n",
       "</style>\n",
       "<table border=\"1\" class=\"dataframe\">\n",
       "  <thead>\n",
       "    <tr style=\"text-align: right;\">\n",
       "      <th></th>\n",
       "      <th>identifier</th>\n",
       "      <th>Default Welcome Intent</th>\n",
       "      <th>geo-city</th>\n",
       "      <th>Get City</th>\n",
       "      <th>fruit</th>\n",
       "      <th>Get Fruit</th>\n",
       "      <th>raw_text</th>\n",
       "    </tr>\n",
       "  </thead>\n",
       "  <tbody>\n",
       "    <tr>\n",
       "      <th>0</th>\n",
       "      <td>test-session-7e9945fa1a0a</td>\n",
       "      <td>Hola</td>\n",
       "      <td>NaN</td>\n",
       "      <td>NaN</td>\n",
       "      <td>NaN</td>\n",
       "      <td>NaN</td>\n",
       "      <td>Hola</td>\n",
       "    </tr>\n",
       "    <tr>\n",
       "      <th>1</th>\n",
       "      <td>test-session-f7dc5a63848f</td>\n",
       "      <td>hello</td>\n",
       "      <td>Madison</td>\n",
       "      <td>Madison</td>\n",
       "      <td>Grape</td>\n",
       "      <td>Grapes</td>\n",
       "      <td>hello | Madison | Grapes</td>\n",
       "    </tr>\n",
       "  </tbody>\n",
       "</table>\n",
       "</div>"
      ],
      "text/plain": [
       "                  identifier Default Welcome Intent geo-city Get City  fruit  \\\n",
       "0  test-session-7e9945fa1a0a                   Hola      NaN      NaN    NaN   \n",
       "1  test-session-f7dc5a63848f                  hello  Madison  Madison  Grape   \n",
       "\n",
       "  Get Fruit                  raw_text  \n",
       "0       NaN                      Hola  \n",
       "1    Grapes  hello | Madison | Grapes  "
      ]
     },
     "execution_count": 25,
     "metadata": {},
     "output_type": "execute_result"
    }
   ],
   "source": [
    "merge1"
   ]
  },
  {
   "cell_type": "code",
   "execution_count": 83,
   "metadata": {},
   "outputs": [],
   "source": [
    "first_contact_df.sort_values(by=['created_at'], inplace=True)"
   ]
  },
  {
   "cell_type": "code",
   "execution_count": 84,
   "metadata": {},
   "outputs": [],
   "source": [
    "final_table = pd.merge(first_contact_df, merge1, on=\"identifier\")"
   ]
  },
  {
   "cell_type": "code",
   "execution_count": 85,
   "metadata": {},
   "outputs": [
    {
     "data": {
      "text/html": [
       "<div>\n",
       "<style scoped>\n",
       "    .dataframe tbody tr th:only-of-type {\n",
       "        vertical-align: middle;\n",
       "    }\n",
       "\n",
       "    .dataframe tbody tr th {\n",
       "        vertical-align: top;\n",
       "    }\n",
       "\n",
       "    .dataframe thead th {\n",
       "        text-align: right;\n",
       "    }\n",
       "</style>\n",
       "<table border=\"1\" class=\"dataframe\">\n",
       "  <thead>\n",
       "    <tr style=\"text-align: right;\">\n",
       "      <th></th>\n",
       "      <th>proj_ident_hash</th>\n",
       "      <th>project</th>\n",
       "      <th>identifier</th>\n",
       "      <th>created_at</th>\n",
       "      <th>Default Welcome Intent</th>\n",
       "      <th>geo-city</th>\n",
       "      <th>Get City</th>\n",
       "      <th>fruit</th>\n",
       "      <th>Get Fruit</th>\n",
       "      <th>raw_text</th>\n",
       "    </tr>\n",
       "  </thead>\n",
       "  <tbody>\n",
       "    <tr>\n",
       "      <th>0</th>\n",
       "      <td>dd8b594c008ad32f17f60f6a857f9e9e</td>\n",
       "      <td>propublicafruittest-pyrata</td>\n",
       "      <td>test-session-7e9945fa1a0a</td>\n",
       "      <td>2020-07-14 11:46:36</td>\n",
       "      <td>Hola</td>\n",
       "      <td>NaN</td>\n",
       "      <td>NaN</td>\n",
       "      <td>NaN</td>\n",
       "      <td>NaN</td>\n",
       "      <td>Hola</td>\n",
       "    </tr>\n",
       "    <tr>\n",
       "      <th>1</th>\n",
       "      <td>bbb05269fc4f167a29ace916cbf1b30e</td>\n",
       "      <td>propublicafruittest-pyrata</td>\n",
       "      <td>test-session-f7dc5a63848f</td>\n",
       "      <td>2020-07-14 17:50:11</td>\n",
       "      <td>hello</td>\n",
       "      <td>Madison</td>\n",
       "      <td>Madison</td>\n",
       "      <td>Grape</td>\n",
       "      <td>Grapes</td>\n",
       "      <td>hello | Madison | Grapes</td>\n",
       "    </tr>\n",
       "  </tbody>\n",
       "</table>\n",
       "</div>"
      ],
      "text/plain": [
       "                    proj_ident_hash                     project  \\\n",
       "0  dd8b594c008ad32f17f60f6a857f9e9e  propublicafruittest-pyrata   \n",
       "1  bbb05269fc4f167a29ace916cbf1b30e  propublicafruittest-pyrata   \n",
       "\n",
       "                  identifier          created_at Default Welcome Intent  \\\n",
       "0  test-session-7e9945fa1a0a 2020-07-14 11:46:36                   Hola   \n",
       "1  test-session-f7dc5a63848f 2020-07-14 17:50:11                  hello   \n",
       "\n",
       "  geo-city Get City  fruit Get Fruit                  raw_text  \n",
       "0      NaN      NaN    NaN       NaN                      Hola  \n",
       "1  Madison  Madison  Grape    Grapes  hello | Madison | Grapes  "
      ]
     },
     "execution_count": 85,
     "metadata": {},
     "output_type": "execute_result"
    }
   ],
   "source": [
    "final_table"
   ]
  },
  {
   "cell_type": "code",
   "execution_count": 86,
   "metadata": {},
   "outputs": [],
   "source": [
    "# drop the project columns for the spreadsheet\n",
    "final_table.drop(columns=['proj_ident_hash', 'project'], inplace = True)"
   ]
  },
  {
   "cell_type": "code",
   "execution_count": 87,
   "metadata": {},
   "outputs": [],
   "source": [
    "# final_table"
   ]
  },
  {
   "cell_type": "code",
   "execution_count": null,
   "metadata": {},
   "outputs": [],
   "source": []
  },
  {
   "cell_type": "markdown",
   "metadata": {},
   "source": [
    "## Trying a service account"
   ]
  },
  {
   "cell_type": "code",
   "execution_count": null,
   "metadata": {},
   "outputs": [],
   "source": []
  },
  {
   "cell_type": "code",
   "execution_count": 88,
   "metadata": {},
   "outputs": [],
   "source": [
    "spread = Spread(spreadsheet_id)"
   ]
  },
  {
   "cell_type": "code",
   "execution_count": 89,
   "metadata": {},
   "outputs": [],
   "source": [
    "spread.df_to_sheet(final_table, index=False, sheet='Sheet1', start='A1', replace=True)"
   ]
  },
  {
   "cell_type": "code",
   "execution_count": null,
   "metadata": {},
   "outputs": [],
   "source": []
  },
  {
   "cell_type": "code",
   "execution_count": null,
   "metadata": {},
   "outputs": [],
   "source": []
  }
 ],
 "metadata": {
  "kernelspec": {
   "display_name": "Python 3",
   "language": "python",
   "name": "python3"
  },
  "language_info": {
   "codemirror_mode": {
    "name": "ipython",
    "version": 3
   },
   "file_extension": ".py",
   "mimetype": "text/x-python",
   "name": "python",
   "nbconvert_exporter": "python",
   "pygments_lexer": "ipython3",
   "version": "3.7.7"
  }
 },
 "nbformat": 4,
 "nbformat_minor": 4
}
