{
 "cells": [
  {
   "cell_type": "markdown",
   "metadata": {},
   "source": [
    "## Packages"
   ]
  },
  {
   "cell_type": "markdown",
   "metadata": {},
   "source": [
    "From termainal I did:\n",
    "\n",
    "```\n",
    "pipenv install\n",
    "pipenv install jupyter pymysql sqlalchemy requests\n",
    "```\n"
   ]
  },
  {
   "cell_type": "code",
   "execution_count": 1,
   "metadata": {},
   "outputs": [],
   "source": [
    "import pymysql.cursors\n",
    "import requests\n",
    "from datetime import datetime\n",
    "from sqlalchemy import create_engine\n",
    "import hashlib \n",
    "import os\n",
    "import json\n",
    "import time\n",
    "from collections import defaultdict\n",
    "from flask import jsonify\n",
    "import re\n",
    "import pandas as pd\n",
    "import s3fs\n",
    "import boto3\n",
    "\n",
    "# variables we'll need\n",
    "host = os.environ['DBHOST']\n",
    "port = 3306\n",
    "dbname = \"collab\"\n",
    "user = os.environ['DBUSER']\n",
    "password = os.environ['DBPASSWORD']"
   ]
  },
  {
   "cell_type": "code",
   "execution_count": 2,
   "metadata": {},
   "outputs": [],
   "source": [
    "#### Main function ####\n",
    "\n",
    "def handler(incoming):\n",
    "    \n",
    "    ## Put code here\n",
    "    \n",
    "    \n",
    "    return True"
   ]
  },
  {
   "cell_type": "code",
   "execution_count": 3,
   "metadata": {},
   "outputs": [],
   "source": [
    "########"
   ]
  },
  {
   "cell_type": "code",
   "execution_count": 4,
   "metadata": {},
   "outputs": [],
   "source": [
    "# create sqlalchemy engine\n",
    "engine = create_engine(\"mysql+pymysql://{user}:{pw}@{host}/{db}\"\n",
    "                   .format(user=user,\n",
    "                           pw=password,\n",
    "                           host=host,\n",
    "                           db=dbname))"
   ]
  },
  {
   "cell_type": "code",
   "execution_count": 5,
   "metadata": {},
   "outputs": [],
   "source": [
    "# Get the data we need\n",
    "dbConnection    = engine.connect()\n",
    "\n",
    "df = pd.read_sql(\"SELECT `identifier`, `item_key`, `item_value` FROM `data_pieces`\", dbConnection)\n",
    "columns_df = pd.read_sql(\"SELECT * FROM `column_tracker`\", dbConnection)\n",
    "text_df = pd.read_sql(\"SELECT * FROM `text_log`\", dbConnection)\n",
    "first_contact_df = pd.read_sql(\"SELECT * FROM `first_contact`\", dbConnection)\n",
    "\n",
    "dbConnection.close()"
   ]
  },
  {
   "cell_type": "code",
   "execution_count": 6,
   "metadata": {},
   "outputs": [],
   "source": [
    "pivoted = df.pivot(index='identifier', columns='item_key', values=['item_value'])"
   ]
  },
  {
   "cell_type": "code",
   "execution_count": 7,
   "metadata": {},
   "outputs": [],
   "source": [
    "# pivoted"
   ]
  },
  {
   "cell_type": "code",
   "execution_count": 8,
   "metadata": {},
   "outputs": [],
   "source": [
    "pivoted.columns = pivoted.columns.get_level_values(1)\n",
    "pivoted.reset_index(inplace=True) "
   ]
  },
  {
   "cell_type": "code",
   "execution_count": 9,
   "metadata": {},
   "outputs": [],
   "source": [
    "# pivoted"
   ]
  },
  {
   "cell_type": "code",
   "execution_count": 10,
   "metadata": {},
   "outputs": [],
   "source": [
    "# pivoted.columns"
   ]
  },
  {
   "cell_type": "code",
   "execution_count": 11,
   "metadata": {},
   "outputs": [],
   "source": [
    "columns_df.sort_values(by=['created_at'], inplace=True)"
   ]
  },
  {
   "cell_type": "code",
   "execution_count": 12,
   "metadata": {},
   "outputs": [],
   "source": [
    "ordered_columns = columns_df['col'].tolist()"
   ]
  },
  {
   "cell_type": "code",
   "execution_count": 13,
   "metadata": {},
   "outputs": [],
   "source": [
    "ordered_columns.insert(0, \"identifier\")"
   ]
  },
  {
   "cell_type": "code",
   "execution_count": 14,
   "metadata": {},
   "outputs": [],
   "source": [
    "# ordered_columns"
   ]
  },
  {
   "cell_type": "code",
   "execution_count": 15,
   "metadata": {},
   "outputs": [],
   "source": [
    "pivoted_ordered = pivoted[ordered_columns]"
   ]
  },
  {
   "cell_type": "code",
   "execution_count": 16,
   "metadata": {},
   "outputs": [],
   "source": [
    "# pivoted_ordered"
   ]
  },
  {
   "cell_type": "code",
   "execution_count": 17,
   "metadata": {},
   "outputs": [],
   "source": [
    "# text_df"
   ]
  },
  {
   "cell_type": "code",
   "execution_count": 18,
   "metadata": {},
   "outputs": [],
   "source": [
    "text_concat = text_df.groupby(['identifier'])['raw_text'].apply(' | '.join).reset_index()\n",
    "\n"
   ]
  },
  {
   "cell_type": "code",
   "execution_count": 19,
   "metadata": {},
   "outputs": [],
   "source": [
    "merge1 = pd.merge(pivoted_ordered, text_concat, on=\"identifier\")"
   ]
  },
  {
   "cell_type": "code",
   "execution_count": 20,
   "metadata": {},
   "outputs": [],
   "source": [
    "# merge1"
   ]
  },
  {
   "cell_type": "code",
   "execution_count": 21,
   "metadata": {},
   "outputs": [],
   "source": [
    "first_contact_df.sort_values(by=['created_at'], inplace=True)"
   ]
  },
  {
   "cell_type": "code",
   "execution_count": 22,
   "metadata": {},
   "outputs": [],
   "source": [
    "final_table = pd.merge(first_contact_df, merge1, on=\"identifier\")"
   ]
  },
  {
   "cell_type": "code",
   "execution_count": 23,
   "metadata": {},
   "outputs": [],
   "source": [
    "# final_table"
   ]
  },
  {
   "cell_type": "code",
   "execution_count": 24,
   "metadata": {},
   "outputs": [],
   "source": [
    "csv_file = f\"{dbname}.csv\"\n",
    "final_table.to_csv(csv_file, index=False)"
   ]
  },
  {
   "cell_type": "markdown",
   "metadata": {},
   "source": [
    "## This Google Sheets version requires user authentication"
   ]
  },
  {
   "cell_type": "code",
   "execution_count": 1,
   "metadata": {},
   "outputs": [
    {
     "data": {
      "text/plain": [
       "{'spreadsheetId': '1M3kmYJu3ZTQ7eyCFJ9iSY0uqRfZqQh_5H93TL_fyqtM',\n",
       " 'replies': [{}]}"
      ]
     },
     "execution_count": 1,
     "metadata": {},
     "output_type": "execute_result"
    }
   ],
   "source": [
    "import pickle\n",
    "from googleapiclient.discovery import build\n",
    "\n",
    "SPREADSHEET_ID = '1M3kmYJu3ZTQ7eyCFJ9iSY0uqRfZqQh_5H93TL_fyqtM' # Get this one from the link in browser\n",
    "worksheet_name = 'Sheet1'\n",
    "path_to_csv = './collab.csv'\n",
    "path_to_credentials = './secrets/token.pickle'\n",
    "\n",
    "\n",
    "# convenience routines\n",
    "def find_sheet_id_by_name(sheet_name):\n",
    "    # ugly, but works\n",
    "    sheets_with_properties = API \\\n",
    "        .spreadsheets() \\\n",
    "        .get(spreadsheetId=SPREADSHEET_ID, fields='sheets.properties') \\\n",
    "        .execute() \\\n",
    "        .get('sheets')\n",
    "\n",
    "    for sheet in sheets_with_properties:\n",
    "        if 'title' in sheet['properties'].keys():\n",
    "            if sheet['properties']['title'] == sheet_name:\n",
    "                return sheet['properties']['sheetId']\n",
    "\n",
    "\n",
    "def push_csv_to_gsheet(csv_path, sheet_id):\n",
    "    with open(csv_path, 'r') as csv_file:\n",
    "        csvContents = csv_file.read()\n",
    "    body = {\n",
    "        'requests': [{\n",
    "            'pasteData': {\n",
    "                \"coordinate\": {\n",
    "                    \"sheetId\": sheet_id,\n",
    "                    \"rowIndex\": \"0\",  # adapt this if you need different positioning\n",
    "                    \"columnIndex\": \"0\", # adapt this if you need different positioning\n",
    "                },\n",
    "                \"data\": csvContents,\n",
    "                \"type\": 'PASTE_NORMAL',\n",
    "                \"delimiter\": ',',\n",
    "            }\n",
    "        }]\n",
    "    }\n",
    "    request = API.spreadsheets().batchUpdate(spreadsheetId=SPREADSHEET_ID, body=body)\n",
    "    response = request.execute()\n",
    "    return response\n",
    "\n",
    "\n",
    "# upload\n",
    "with open(path_to_credentials, 'rb') as token:\n",
    "    credentials = pickle.load(token)\n",
    "\n",
    "API = build('sheets', 'v4', credentials=credentials)\n",
    "\n",
    "push_csv_to_gsheet(\n",
    "    csv_path=path_to_csv,\n",
    "    sheet_id=find_sheet_id_by_name(worksheet_name)\n",
    ")"
   ]
  },
  {
   "cell_type": "code",
   "execution_count": null,
   "metadata": {},
   "outputs": [],
   "source": []
  },
  {
   "cell_type": "markdown",
   "metadata": {},
   "source": [
    "## Trying a service account"
   ]
  },
  {
   "cell_type": "code",
   "execution_count": 25,
   "metadata": {},
   "outputs": [],
   "source": [
    "from gspread_pandas import Spread, Client"
   ]
  },
  {
   "cell_type": "code",
   "execution_count": null,
   "metadata": {},
   "outputs": [],
   "source": []
  },
  {
   "cell_type": "code",
   "execution_count": 35,
   "metadata": {},
   "outputs": [],
   "source": [
    "spread = Spread('1uHvY_Z0lpGdvAgkfTt-sNXMe5yGOiq0NZJju0aLej1E')"
   ]
  },
  {
   "cell_type": "code",
   "execution_count": 38,
   "metadata": {},
   "outputs": [],
   "source": [
    "spread.df_to_sheet(final_table, index=False, sheet='Sheet1', start='A1', replace=True)"
   ]
  },
  {
   "cell_type": "code",
   "execution_count": null,
   "metadata": {},
   "outputs": [],
   "source": []
  },
  {
   "cell_type": "code",
   "execution_count": null,
   "metadata": {},
   "outputs": [],
   "source": []
  }
 ],
 "metadata": {
  "kernelspec": {
   "display_name": "Python 3",
   "language": "python",
   "name": "python3"
  },
  "language_info": {
   "codemirror_mode": {
    "name": "ipython",
    "version": 3
   },
   "file_extension": ".py",
   "mimetype": "text/x-python",
   "name": "python",
   "nbconvert_exporter": "python",
   "pygments_lexer": "ipython3",
   "version": "3.7.7"
  }
 },
 "nbformat": 4,
 "nbformat_minor": 4
}
