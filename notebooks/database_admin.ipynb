{
 "cells": [
  {
   "cell_type": "code",
   "execution_count": 3,
   "metadata": {},
   "outputs": [],
   "source": [
    "import pymysql.cursors\n",
    "import os\n",
    "import json\n",
    "\n",
    "# variables we'll need\n",
    "host = os.environ['DBHOST']   ### NOTE! Using private RDS setup\n",
    "port = 3306\n",
    "dbname = os.environ['DBNAME']\n",
    "user = os.environ['DBUSER']\n",
    "password = os.environ['DBPASSWORD']\n",
    "# url = os.environ['URL']\n",
    "# trigger_key = os.environ['TRIGGER']\n",
    "# table_name = \"data\""
   ]
  },
  {
   "cell_type": "code",
   "execution_count": 4,
   "metadata": {},
   "outputs": [],
   "source": [
    "# Change the database we're using\n",
    "dbname = 'collab'"
   ]
  },
  {
   "cell_type": "code",
   "execution_count": 5,
   "metadata": {},
   "outputs": [],
   "source": [
    "def send_sql(sql):\n",
    "    # Connect to the database\n",
    "    connection = pymysql.connect(host=host,\n",
    "                                 user=user,\n",
    "                                 password=password,\n",
    "                                 db=dbname,\n",
    "                                 charset='utf8mb4',\n",
    "                                 cursorclass=pymysql.cursors.DictCursor)\n",
    "\n",
    "    try:\n",
    "        with connection.cursor() as cursor:\n",
    "            # Create a new record\n",
    "            cursor.execute(sql)\n",
    "            \n",
    "\n",
    "        # connection is not autocommit by default. So you must commit to save\n",
    "        # your changes.\n",
    "        connection.commit()\n",
    "        \n",
    "        # prints number of rows affected\n",
    "        print(cursor.rowcount)\n",
    "\n",
    "    finally:\n",
    "        connection.close()"
   ]
  },
  {
   "cell_type": "code",
   "execution_count": null,
   "metadata": {},
   "outputs": [],
   "source": []
  },
  {
   "cell_type": "code",
   "execution_count": 3,
   "metadata": {},
   "outputs": [
    {
     "name": "stdout",
     "output_type": "stream",
     "text": [
      "1\n"
     ]
    }
   ],
   "source": [
    "## Create a new database in the smarts public cluster\n",
    "sql = 'CREATE DATABASE collab;'\n",
    "send_sql(sql)\n",
    "\n",
    "## then change the name of the database in this notebook\n",
    "dbname = 'collab'"
   ]
  },
  {
   "cell_type": "code",
   "execution_count": null,
   "metadata": {},
   "outputs": [],
   "source": []
  },
  {
   "cell_type": "code",
   "execution_count": null,
   "metadata": {},
   "outputs": [],
   "source": []
  },
  {
   "cell_type": "code",
   "execution_count": 6,
   "metadata": {},
   "outputs": [
    {
     "name": "stdout",
     "output_type": "stream",
     "text": [
      "0\n"
     ]
    }
   ],
   "source": [
    "# Create new table for initial contacts\n",
    "# We will use this to order our CSV\n",
    "sql = '''\n",
    "CREATE TABLE `first_contact` (\n",
    "    `identifier` varchar(32) COLLATE utf8_bin NOT NULL PRIMARY KEY,\n",
    "    `created_at` DATETIME\n",
    ") ENGINE=InnoDB DEFAULT CHARSET=utf8 COLLATE=utf8_bin;\n",
    "'''\n",
    "\n",
    "send_sql(sql)"
   ]
  },
  {
   "cell_type": "code",
   "execution_count": 7,
   "metadata": {},
   "outputs": [
    {
     "name": "stdout",
     "output_type": "stream",
     "text": [
      "0\n"
     ]
    }
   ],
   "source": [
    "# Create new table for every message received\n",
    "sql = '''\n",
    "CREATE TABLE `data_pieces` (\n",
    "    `ident_key_hash` varchar(32) COLLATE utf8_bin NOT NULL PRIMARY KEY,\n",
    "    `created_at` DATETIME,\n",
    "    `identifier` varchar(32) COLLATE utf8_bin NOT NULL,\n",
    "    `item_key` varchar(100) COLLATE utf8_bin NOT NULL,\n",
    "    `item_value` varchar(255) COLLATE utf8_bin NOT NULL\n",
    ") ENGINE=InnoDB DEFAULT CHARSET=utf8 COLLATE=utf8_bin;\n",
    "'''\n",
    "\n",
    "send_sql(sql)"
   ]
  },
  {
   "cell_type": "code",
   "execution_count": 16,
   "metadata": {},
   "outputs": [
    {
     "name": "stdout",
     "output_type": "stream",
     "text": [
      "0\n"
     ]
    }
   ],
   "source": [
    "# Create new table for columns creation\n",
    "# We will use this to order columns CSV\n",
    "sql = '''\n",
    "CREATE TABLE `column_tracker` (\n",
    "    `col` varchar(100) COLLATE utf8_bin NOT NULL PRIMARY KEY,\n",
    "    `created_at` DATETIME\n",
    ") ENGINE=InnoDB DEFAULT CHARSET=utf8 COLLATE=utf8_bin;\n",
    "'''\n",
    "\n",
    "send_sql(sql)"
   ]
  },
  {
   "cell_type": "code",
   "execution_count": 8,
   "metadata": {},
   "outputs": [
    {
     "name": "stdout",
     "output_type": "stream",
     "text": [
      "0\n"
     ]
    }
   ],
   "source": [
    "sql = '''\n",
    "CREATE TABLE `text_log` (\n",
    "    `id` MEDIUMINT NOT NULL AUTO_INCREMENT PRIMARY KEY,\n",
    "    `created_at` DATETIME,\n",
    "    `identifier` varchar(32) COLLATE utf8_bin NOT NULL,\n",
    "    `raw_text` varchar(255) COLLATE utf8_bin NOT NULL\n",
    ") ENGINE=InnoDB DEFAULT CHARSET=utf8 COLLATE=utf8_bin;\n",
    "'''\n",
    "\n",
    "send_sql(sql)"
   ]
  },
  {
   "cell_type": "code",
   "execution_count": null,
   "metadata": {},
   "outputs": [],
   "source": []
  },
  {
   "cell_type": "code",
   "execution_count": 6,
   "metadata": {},
   "outputs": [
    {
     "name": "stdout",
     "output_type": "stream",
     "text": [
      "0\n"
     ]
    }
   ],
   "source": [
    "sql = 'DROP TABLE log'\n",
    "send_sql(sql)"
   ]
  },
  {
   "cell_type": "code",
   "execution_count": 46,
   "metadata": {},
   "outputs": [
    {
     "name": "stdout",
     "output_type": "stream",
     "text": [
      "0\n"
     ]
    }
   ],
   "source": [
    "sql = '''\n",
    "INSERT IGNORE INTO transactions \n",
    " (item_hash)\n",
    "VALUES\n",
    " ('tester2')\n",
    "'''\n",
    "\n",
    "send_sql(sql)"
   ]
  },
  {
   "cell_type": "code",
   "execution_count": 4,
   "metadata": {},
   "outputs": [
    {
     "name": "stdout",
     "output_type": "stream",
     "text": [
      "0\n"
     ]
    }
   ],
   "source": [
    "sql = 'DROP DATABASE collabridge'\n",
    "send_sql(sql)"
   ]
  },
  {
   "cell_type": "code",
   "execution_count": null,
   "metadata": {},
   "outputs": [],
   "source": []
  }
 ],
 "metadata": {
  "kernelspec": {
   "display_name": "Python 3",
   "language": "python",
   "name": "python3"
  },
  "language_info": {
   "codemirror_mode": {
    "name": "ipython",
    "version": 3
   },
   "file_extension": ".py",
   "mimetype": "text/x-python",
   "name": "python",
   "nbconvert_exporter": "python",
   "pygments_lexer": "ipython3",
   "version": "3.7.7"
  }
 },
 "nbformat": 4,
 "nbformat_minor": 4
}
