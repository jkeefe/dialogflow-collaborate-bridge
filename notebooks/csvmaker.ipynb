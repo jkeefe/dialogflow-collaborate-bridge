{
 "cells": [
  {
   "cell_type": "markdown",
   "metadata": {},
   "source": [
    "## Packages"
   ]
  },
  {
   "cell_type": "markdown",
   "metadata": {},
   "source": [
    "From termainal I did:\n",
    "\n",
    "```\n",
    "pipenv install\n",
    "pipenv install jupyter pymysql sqlalchemy requests\n",
    "```\n"
   ]
  },
  {
   "cell_type": "code",
   "execution_count": 29,
   "metadata": {},
   "outputs": [],
   "source": [
    "import pymysql.cursors\n",
    "import requests\n",
    "from datetime import datetime\n",
    "from sqlalchemy import create_engine\n",
    "import hashlib \n",
    "import os\n",
    "import json\n",
    "import time\n",
    "from collections import defaultdict\n",
    "from flask import jsonify\n",
    "import re\n",
    "import pandas as pd\n",
    "import s3fs\n",
    "import boto3\n",
    "\n",
    "# variables we'll need\n",
    "host = os.environ['DBHOST']\n",
    "port = 3306\n",
    "dbname = \"collab\"\n",
    "user = os.environ['DBUSER']\n",
    "password = os.environ['DBPASSWORD']"
   ]
  },
  {
   "cell_type": "code",
   "execution_count": 30,
   "metadata": {},
   "outputs": [],
   "source": [
    "#### Main function ####\n",
    "\n",
    "def handler(incoming):\n",
    "    \n",
    "    ## Put code here\n",
    "    \n",
    "    \n",
    "    return True"
   ]
  },
  {
   "cell_type": "code",
   "execution_count": 31,
   "metadata": {},
   "outputs": [],
   "source": [
    "#### TESTING ZONE #####"
   ]
  },
  {
   "cell_type": "code",
   "execution_count": 32,
   "metadata": {},
   "outputs": [],
   "source": [
    "# create sqlalchemy engine\n",
    "engine = create_engine(\"mysql+pymysql://{user}:{pw}@{host}/{db}\"\n",
    "                   .format(user=user,\n",
    "                           pw=password,\n",
    "                           host=host,\n",
    "                           db=dbname))"
   ]
  },
  {
   "cell_type": "code",
   "execution_count": 33,
   "metadata": {},
   "outputs": [],
   "source": [
    "# Get the data we need\n",
    "dbConnection    = engine.connect()\n",
    "\n",
    "df = pd.read_sql(\"SELECT `identifier`, `item_key`, `item_value` FROM `data_pieces`\", dbConnection)\n",
    "columns_df = pd.read_sql(\"SELECT * FROM `column_tracker`\", dbConnection)\n",
    "text_df = pd.read_sql(\"SELECT * FROM `text_log`\", dbConnection)\n",
    "first_contact_df = pd.read_sql(\"SELECT * FROM `first_contact`\", dbConnection)\n",
    "\n",
    "dbConnection.close()"
   ]
  },
  {
   "cell_type": "code",
   "execution_count": 34,
   "metadata": {},
   "outputs": [],
   "source": [
    "pivoted = df.pivot(index='identifier', columns='item_key', values=['item_value'])"
   ]
  },
  {
   "cell_type": "code",
   "execution_count": 35,
   "metadata": {},
   "outputs": [],
   "source": [
    "# pivoted"
   ]
  },
  {
   "cell_type": "code",
   "execution_count": 36,
   "metadata": {},
   "outputs": [],
   "source": [
    "pivoted.columns = pivoted.columns.get_level_values(1)\n",
    "pivoted.reset_index(inplace=True) "
   ]
  },
  {
   "cell_type": "code",
   "execution_count": 37,
   "metadata": {},
   "outputs": [],
   "source": [
    "# pivoted"
   ]
  },
  {
   "cell_type": "code",
   "execution_count": 38,
   "metadata": {},
   "outputs": [],
   "source": [
    "# pivoted.columns"
   ]
  },
  {
   "cell_type": "code",
   "execution_count": 39,
   "metadata": {},
   "outputs": [],
   "source": [
    "columns_df.sort_values(by=['created_at'], inplace=True)"
   ]
  },
  {
   "cell_type": "code",
   "execution_count": 40,
   "metadata": {},
   "outputs": [],
   "source": [
    "ordered_columns = columns_df['col'].tolist()"
   ]
  },
  {
   "cell_type": "code",
   "execution_count": 41,
   "metadata": {},
   "outputs": [],
   "source": [
    "ordered_columns.insert(0, \"identifier\")"
   ]
  },
  {
   "cell_type": "code",
   "execution_count": 42,
   "metadata": {},
   "outputs": [],
   "source": [
    "# ordered_columns"
   ]
  },
  {
   "cell_type": "code",
   "execution_count": 43,
   "metadata": {},
   "outputs": [],
   "source": [
    "pivoted_ordered = pivoted[ordered_columns]"
   ]
  },
  {
   "cell_type": "code",
   "execution_count": 44,
   "metadata": {},
   "outputs": [],
   "source": [
    "# pivoted_ordered"
   ]
  },
  {
   "cell_type": "code",
   "execution_count": 45,
   "metadata": {},
   "outputs": [],
   "source": [
    "# text_df"
   ]
  },
  {
   "cell_type": "code",
   "execution_count": 46,
   "metadata": {},
   "outputs": [],
   "source": [
    "text_concat = text_df.groupby(['identifier'])['raw_text'].apply(' | '.join).reset_index()\n",
    "\n"
   ]
  },
  {
   "cell_type": "code",
   "execution_count": 47,
   "metadata": {},
   "outputs": [],
   "source": [
    "merge1 = pd.merge(pivoted_ordered, text_concat, on=\"identifier\")"
   ]
  },
  {
   "cell_type": "code",
   "execution_count": 48,
   "metadata": {},
   "outputs": [],
   "source": [
    "# merge1"
   ]
  },
  {
   "cell_type": "code",
   "execution_count": 49,
   "metadata": {},
   "outputs": [],
   "source": [
    "first_contact_df.sort_values(by=['created_at'], inplace=True)"
   ]
  },
  {
   "cell_type": "code",
   "execution_count": 50,
   "metadata": {},
   "outputs": [],
   "source": [
    "final_table = pd.merge(first_contact_df, merge1, on=\"identifier\")"
   ]
  },
  {
   "cell_type": "code",
   "execution_count": 51,
   "metadata": {},
   "outputs": [],
   "source": [
    "# final_table"
   ]
  },
  {
   "cell_type": "code",
   "execution_count": 52,
   "metadata": {},
   "outputs": [],
   "source": [
    "final_table.to_csv(f\"{dbname}-export.csv\", index=False)"
   ]
  },
  {
   "cell_type": "code",
   "execution_count": null,
   "metadata": {},
   "outputs": [],
   "source": []
  },
  {
   "cell_type": "code",
   "execution_count": 53,
   "metadata": {},
   "outputs": [],
   "source": [
    "final_table.to_csv(f's3://collab-bridge/{dbname}-export.csv', index=False)"
   ]
  },
  {
   "cell_type": "code",
   "execution_count": 55,
   "metadata": {},
   "outputs": [
    {
     "data": {
      "text/plain": [
       "{'ResponseMetadata': {'RequestId': '7D1AFCA8C566F011',\n",
       "  'HostId': 'X0Oc66x9dEPUqbr+nMxZNyAQvgHnL7ts8S8sy1oFBmfPAlt+GIiIMIr613CH1Nf4dCBVYNgZN7c=',\n",
       "  'HTTPStatusCode': 200,\n",
       "  'HTTPHeaders': {'x-amz-id-2': 'X0Oc66x9dEPUqbr+nMxZNyAQvgHnL7ts8S8sy1oFBmfPAlt+GIiIMIr613CH1Nf4dCBVYNgZN7c=',\n",
       "   'x-amz-request-id': '7D1AFCA8C566F011',\n",
       "   'date': 'Mon, 01 Jun 2020 03:51:40 GMT',\n",
       "   'content-length': '0',\n",
       "   'server': 'AmazonS3'},\n",
       "  'RetryAttempts': 0}}"
      ]
     },
     "execution_count": 55,
     "metadata": {},
     "output_type": "execute_result"
    }
   ],
   "source": [
    "## Make it public\n",
    "s3 = boto3.resource('s3')\n",
    "s3.Object('collab-bridge', f'{dbname}-export.csv').Acl().put(ACL='public-read')\n"
   ]
  },
  {
   "cell_type": "code",
   "execution_count": 56,
   "metadata": {},
   "outputs": [],
   "source": [
    "## Note: Testing URL is https://collab-bridge.s3.amazonaws.com/collab-export.csv"
   ]
  },
  {
   "cell_type": "code",
   "execution_count": null,
   "metadata": {},
   "outputs": [],
   "source": []
  },
  {
   "cell_type": "code",
   "execution_count": null,
   "metadata": {},
   "outputs": [],
   "source": []
  },
  {
   "cell_type": "code",
   "execution_count": null,
   "metadata": {},
   "outputs": [],
   "source": []
  },
  {
   "cell_type": "code",
   "execution_count": null,
   "metadata": {},
   "outputs": [],
   "source": []
  }
 ],
 "metadata": {
  "kernelspec": {
   "display_name": "Python 3",
   "language": "python",
   "name": "python3"
  },
  "language_info": {
   "codemirror_mode": {
    "name": "ipython",
    "version": 3
   },
   "file_extension": ".py",
   "mimetype": "text/x-python",
   "name": "python",
   "nbconvert_exporter": "python",
   "pygments_lexer": "ipython3",
   "version": "3.7.7"
  }
 },
 "nbformat": 4,
 "nbformat_minor": 4
}
