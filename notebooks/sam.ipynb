{
 "cells": [
  {
   "cell_type": "markdown",
   "metadata": {},
   "source": [
    "## Packages"
   ]
  },
  {
   "cell_type": "markdown",
   "metadata": {},
   "source": [
    "From termainal I did:\n",
    "\n",
    "```\n",
    "pipenv install\n",
    "pipenv install jupyter pymysql sqlalchemy requests\n",
    "```\n"
   ]
  },
  {
   "cell_type": "code",
   "execution_count": 30,
   "metadata": {},
   "outputs": [],
   "source": [
    "import pymysql.cursors\n",
    "import requests\n",
    "from datetime import datetime\n",
    "from sqlalchemy import create_engine\n",
    "import hashlib \n",
    "import os\n",
    "import json\n",
    "import time\n",
    "from collections import defaultdict\n",
    "\n",
    "# variables we'll need\n",
    "host = os.environ['DBHOST']\n",
    "port = 3306\n",
    "dbname = \"sam\"\n",
    "user = os.environ['DBUSER']\n",
    "password = os.environ['DBPASSWORD']"
   ]
  },
  {
   "cell_type": "markdown",
   "metadata": {},
   "source": [
    "## Game plan\n",
    "\n",
    "- "
   ]
  },
  {
   "cell_type": "code",
   "execution_count": 31,
   "metadata": {},
   "outputs": [],
   "source": [
    "list_endpoint_base = 'https://beta.sam.gov/api/prod/sgs/v1/search/?index=opp&q=&page=0&sort=-modifiedDate&mode=search&is_active=true&organization_id='\n",
    "attachments_endpoint_base = 'https://beta.sam.gov/api/prod/opps/v3/opportunities/'\n",
    "\n",
    "# ICE: organization_id=100012075\n",
    "# FBI: organization_id=100500172\n",
    "# DEA: organization_id=100500171\n",
    "# State Dept: organization_id=100012062\n",
    "# Secret Service: organization_id=100012967\n",
    "\n",
    "organization_ids = ['100012075', '100500172', '100500171', '100012062', '100012062', '100012967']\n"
   ]
  },
  {
   "cell_type": "code",
   "execution_count": 32,
   "metadata": {},
   "outputs": [],
   "source": [
    "# Open the database connection\n",
    "connection = pymysql.connect(host=host,\n",
    "                                 user=user,\n",
    "                                 password=password,\n",
    "                                 db=dbname,\n",
    "                                 charset='utf8mb4',\n",
    "                                 cursorclass=pymysql.cursors.DictCursor)"
   ]
  },
  {
   "cell_type": "code",
   "execution_count": 33,
   "metadata": {},
   "outputs": [
    {
     "name": "stdout",
     "output_type": "stream",
     "text": [
      "Searched Sam.gov for 100012075, got 10 records, with status [200]\n",
      "Searched Sam.gov for 100500172, got 10 records, with status [200]\n",
      "Searched Sam.gov for 100500171, got 10 records, with status [200]\n",
      "Searched Sam.gov for 100012062, got 10 records, with status [200]\n",
      "Searched Sam.gov for 100012062, got 10 records, with status [200]\n",
      "Searched Sam.gov for 100012967, got 3 records, with status [200]\n"
     ]
    }
   ],
   "source": [
    "slack_package = []\n",
    "\n",
    "# loop through each search term\n",
    "for search_term in organization_ids:\n",
    "    \n",
    "    # pause 5 seconds to be kind to the server\n",
    "    time.sleep(6)\n",
    "    \n",
    "    endpoint = list_endpoint_base + search_term\n",
    "\n",
    "    # hit sam.gov\n",
    "    try:\n",
    "        response = requests.get(endpoint)\n",
    "    except requests.exceptions.RequestException as err:\n",
    "        print (f\"Had trouble getting the list for {search_term}:\",err)\n",
    "    \n",
    "    data = response.json()\n",
    "    results = data['_embedded']['results']\n",
    "    record_qty = len(results)\n",
    "    \n",
    "    status = response.status_code\n",
    "    print(f'Searched Sam.gov for {search_term}, got {record_qty} records, with status [{status}]')\n",
    "\n",
    "    # loop through the search results\n",
    "    for item in results:\n",
    "\n",
    "        # making a hash out of the entry\n",
    "        # note that md5 is not secure (but works for our use)\n",
    "        str2hash = json.dumps(item)      \n",
    "        result = hashlib.md5(str2hash.encode()) \n",
    "        hexed = result.hexdigest()\n",
    "        now = datetime.now().isoformat(sep=' ', timespec='seconds') # => '2020-05-12 18:54:54'\n",
    "\n",
    "        ## Add the hashed row to the database, but be chill \n",
    "        ## even if it already exists\n",
    "\n",
    "        sql = f'''\n",
    "            INSERT IGNORE INTO documents \n",
    "             (item_hash, created_at)\n",
    "            VALUES\n",
    "             ( '{hexed}', '{now}' )\n",
    "        '''\n",
    "\n",
    "        with connection.cursor() as cursor:\n",
    "                # Create a new record\n",
    "                cursor.execute(sql)\n",
    "\n",
    "        connection.commit()\n",
    "\n",
    "        ## If rows affected (cursor.rowcount) = 1, that means a row was inserted.\n",
    "        ## And since we're using INSERT IGNORE, that means it didn't exist before\n",
    "        ## ... so add it to the list of items to slack\n",
    "        if cursor.rowcount == 1:\n",
    "            \n",
    "            # go get the attachements array for the item\n",
    "            time.sleep(10) # be nice to the server\n",
    "            attachments_endpoint = f\"{attachments_endpoint_base}{item['_id']}/resources\"\n",
    "            \n",
    "            try: \n",
    "                attachments_response = requests.get(attachments_endpoint)               \n",
    "            except requests.exceptions.RequestException as err:\n",
    "                print (\"Had trouble getting some attachments:\",err)\n",
    "            \n",
    "            attachments_data = attachments_response.json()\n",
    "            status = attachments_response.status_code\n",
    "            print(f'Hitting {attachments_endpoint}, got status [{status}]\\n{attachments_data}')\n",
    "            \n",
    "            if '_embedded' in attachments_data.keys():\n",
    "                attachments = attachments_data['_embedded']['opportunityAttachmentList'][0]['attachments']\n",
    "            else:\n",
    "                attachments = []\n",
    "            \n",
    "            # add the attachments list to the item\n",
    "            item['attachments'] = attachments\n",
    "            \n",
    "            # print(json.dumps(item))\n",
    "            \n",
    "            # add the item to the slack package\n",
    "            slack_package.append(item)\n",
    "\n",
    "connection.close()"
   ]
  },
  {
   "cell_type": "code",
   "execution_count": null,
   "metadata": {},
   "outputs": [],
   "source": []
  },
  {
   "cell_type": "markdown",
   "metadata": {},
   "source": [
    "Here's the [block kit tinker](https://api.slack.com/tools/block-kit-builder?mode=message&blocks=%5B%7B%22type%22%3A%22divider%22%7D%2C%7B%22type%22%3A%22section%22%2C%22text%22%3A%7B%22type%22%3A%22mrkdwn%22%2C%22text%22%3A%22%3Chttps%3A%2F%2Flink.com%7CLaw%20Enforcement%20Surveillance%20Equipment%3E%5Cn%22%7D%7D%2C%7B%22type%22%3A%22context%22%2C%22elements%22%3A%5B%7B%22type%22%3A%22mrkdwn%22%2C%22text%22%3A%22US%20IMMIGRATION%20AND%20CUSTOMS%20ENFORCEMENT%22%7D%5D%7D%2C%7B%22type%22%3A%22section%22%2C%22text%22%3A%7B%22type%22%3A%22mrkdwn%22%2C%22text%22%3A%22%3Apage_facing_up%3A%20%3Chttps%3A%2F%2Ftest.com%2F%7Csome_document_0123.pdf%3E%22%7D%7D%5D) for this."
   ]
  },
  {
   "cell_type": "markdown",
   "metadata": {},
   "source": [
    "##  Send to Slack function"
   ]
  },
  {
   "cell_type": "code",
   "execution_count": 34,
   "metadata": {},
   "outputs": [],
   "source": [
    "def send_to_slack(payload):\n",
    "    block_count = len(payload)\n",
    "    print(f\"Sending {block_count} block(s) to Slack ...\")\n",
    "    endpoint = os.environ['SLACK_URL']\n",
    "    response = requests.post(endpoint, json=payload)\n",
    "    print(\"Slack said: \", response)"
   ]
  },
  {
   "cell_type": "markdown",
   "metadata": {},
   "source": [
    "## Building the slack message"
   ]
  },
  {
   "cell_type": "code",
   "execution_count": 35,
   "metadata": {},
   "outputs": [
    {
     "name": "stdout",
     "output_type": "stream",
     "text": [
      "Done!\n"
     ]
    }
   ],
   "source": [
    "slack_payload = {\n",
    "    \"blocks\": []\n",
    "}\n",
    "\n",
    "# loop through all the items in the package\n",
    "for item in slack_package:\n",
    "       \n",
    "    slack_payload['blocks'].append({\"type\": \"divider\"})\n",
    "    \n",
    "    item_link = f\"https://beta.sam.gov/opp/{item['_id']}/view\"\n",
    "    slack_payload['blocks'].append({\n",
    "        \"type\": \"section\",\n",
    "        \"text\": {\n",
    "            \"type\": \"mrkdwn\",\n",
    "            \"text\": f\"<{item_link}|{item['title']}>\\n\"\n",
    "        }\n",
    "    })\n",
    "    \n",
    "    if len(item['organizationHierarchy']) > 2:\n",
    "        department = item['organizationHierarchy'][1]['name']\n",
    "    else:\n",
    "        department = item['organizationHierarchy'][0]['name']   \n",
    "    \n",
    "    slack_payload['blocks'].append({\n",
    "        \"type\": \"context\",\n",
    "        \"elements\": [\n",
    "            {\n",
    "                \"type\": \"mrkdwn\",\n",
    "                \"text\": f\"{department}\"\n",
    "            }\n",
    "        ]\n",
    "    })\n",
    "    \n",
    "    # loop through the attachments, if any\n",
    "    attachments_blob = \"\"\n",
    "    for document in item['attachments']:\n",
    "        \n",
    "        if document['accessLevel'] != 'public':\n",
    "            continue\n",
    "            \n",
    "        document_link = f\"https://beta.sam.gov/api/prod/opps/v3/opportunities/resources/files/{document['resourceId']}/download\"\n",
    "        attachments_blob += f\":page_facing_up: <{document_link}|{document['name']}>\\n\"\n",
    "        \n",
    "    if attachments_blob != \"\":\n",
    "        \n",
    "        slack_payload['blocks'].append({\n",
    "            \"type\": \"section\",\n",
    "            \"text\": {\n",
    "                \"type\": \"mrkdwn\",\n",
    "                \"text\": f\"{attachments_blob}\"\n",
    "            }\n",
    "        })\n",
    "    \n",
    "        \n",
    "    ## Slack limits each block set to 50\n",
    "    if len(slack_payload['blocks']) > 45:\n",
    "        \n",
    "        # send what we have so far\n",
    "        send_to_slack(slack_payload)\n",
    "        \n",
    "        # reset the payload\n",
    "        slack_payload = {\n",
    "            \"blocks\": []\n",
    "        }\n",
    "\n",
    "if len(slack_payload['blocks']) > 0:\n",
    "    send_to_slack(slack_payload)\n",
    "    \n",
    "print(\"Done!\")"
   ]
  },
  {
   "cell_type": "code",
   "execution_count": null,
   "metadata": {},
   "outputs": [],
   "source": []
  }
 ],
 "metadata": {
  "kernelspec": {
   "display_name": "Python 3",
   "language": "python",
   "name": "python3"
  },
  "language_info": {
   "codemirror_mode": {
    "name": "ipython",
    "version": 3
   },
   "file_extension": ".py",
   "mimetype": "text/x-python",
   "name": "python",
   "nbconvert_exporter": "python",
   "pygments_lexer": "ipython3",
   "version": "3.7.7"
  }
 },
 "nbformat": 4,
 "nbformat_minor": 4
}
