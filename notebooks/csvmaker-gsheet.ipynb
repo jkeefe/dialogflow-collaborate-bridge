{
 "cells": [
  {
   "cell_type": "markdown",
   "metadata": {},
   "source": [
    "## Packages"
   ]
  },
  {
   "cell_type": "markdown",
   "metadata": {},
   "source": [
    "From termainal I did:\n",
    "\n",
    "```\n",
    "pipenv install\n",
    "pipenv install jupyter pymysql sqlalchemy requests\n",
    "```\n"
   ]
  },
  {
   "cell_type": "code",
   "execution_count": 12,
   "metadata": {},
   "outputs": [],
   "source": [
    "import pymysql.cursors\n",
    "import requests\n",
    "from datetime import datetime\n",
    "from sqlalchemy import create_engine\n",
    "import hashlib \n",
    "import os\n",
    "import json\n",
    "import time\n",
    "from collections import defaultdict\n",
    "from flask import jsonify\n",
    "import re\n",
    "import pandas as pd\n",
    "from gspread_pandas import Spread, Client\n",
    "\n",
    "# variables we'll need\n",
    "host = os.environ['DBHOST']\n",
    "port = 3306\n",
    "dbname = \"collaborate\"\n",
    "user = os.environ['DBUSER']\n",
    "password = os.environ['DBPASSWORD']"
   ]
  },
  {
   "cell_type": "code",
   "execution_count": 13,
   "metadata": {},
   "outputs": [],
   "source": [
    "#### Main function ####\n",
    "\n",
    "def handler(incoming):\n",
    "    \n",
    "    ## Put code here\n",
    "    \n",
    "    \n",
    "    return True"
   ]
  },
  {
   "cell_type": "code",
   "execution_count": 14,
   "metadata": {},
   "outputs": [],
   "source": [
    "########"
   ]
  },
  {
   "cell_type": "markdown",
   "metadata": {},
   "source": [
    "## Get list of projects"
   ]
  },
  {
   "cell_type": "code",
   "execution_count": 15,
   "metadata": {},
   "outputs": [],
   "source": [
    "main_spread = Spread('1wZDpHfIqKBEhmS_F485kFKmrBUAbrfMqu2HW4NOY6BE')"
   ]
  },
  {
   "cell_type": "code",
   "execution_count": 16,
   "metadata": {},
   "outputs": [],
   "source": [
    "project_list = main_spread.sheet_to_df(index=0)"
   ]
  },
  {
   "cell_type": "code",
   "execution_count": 17,
   "metadata": {},
   "outputs": [
    {
     "data": {
      "text/html": [
       "<div>\n",
       "<style scoped>\n",
       "    .dataframe tbody tr th:only-of-type {\n",
       "        vertical-align: middle;\n",
       "    }\n",
       "\n",
       "    .dataframe tbody tr th {\n",
       "        vertical-align: top;\n",
       "    }\n",
       "\n",
       "    .dataframe thead th {\n",
       "        text-align: right;\n",
       "    }\n",
       "</style>\n",
       "<table border=\"1\" class=\"dataframe\">\n",
       "  <thead>\n",
       "    <tr style=\"text-align: right;\">\n",
       "      <th></th>\n",
       "      <th>friendly_name</th>\n",
       "      <th>dialogflow_project_id</th>\n",
       "      <th>google_spreadsheet_id</th>\n",
       "    </tr>\n",
       "  </thead>\n",
       "  <tbody>\n",
       "    <tr>\n",
       "      <th>0</th>\n",
       "      <td>Fruit Test</td>\n",
       "      <td>propublicafruittest-pyrata</td>\n",
       "      <td>1uHvY_Z0lpGdvAgkfTt-sNXMe5yGOiq0NZJju0aLej1E</td>\n",
       "    </tr>\n",
       "  </tbody>\n",
       "</table>\n",
       "</div>"
      ],
      "text/plain": [
       "  friendly_name       dialogflow_project_id  \\\n",
       "0    Fruit Test  propublicafruittest-pyrata   \n",
       "\n",
       "                          google_spreadsheet_id  \n",
       "0  1uHvY_Z0lpGdvAgkfTt-sNXMe5yGOiq0NZJju0aLej1E  "
      ]
     },
     "execution_count": 17,
     "metadata": {},
     "output_type": "execute_result"
    }
   ],
   "source": [
    "project_list"
   ]
  },
  {
   "cell_type": "code",
   "execution_count": 18,
   "metadata": {},
   "outputs": [],
   "source": [
    "# create sqlalchemy engine\n",
    "engine = create_engine(\"mysql+pymysql://{user}:{pw}@{host}/{db}\"\n",
    "                   .format(user=user,\n",
    "                           pw=password,\n",
    "                           host=host,\n",
    "                           db=dbname))"
   ]
  },
  {
   "cell_type": "code",
   "execution_count": 19,
   "metadata": {},
   "outputs": [],
   "source": [
    "# open the database connection\n",
    "dbConnection    = engine.connect()"
   ]
  },
  {
   "cell_type": "code",
   "execution_count": 20,
   "metadata": {},
   "outputs": [
    {
     "name": "stdout",
     "output_type": "stream",
     "text": [
      "Spreadsheet for Fruit Test updated.\n"
     ]
    }
   ],
   "source": [
    "# loop through all the projects\n",
    "for index, row in project_list.iterrows():\n",
    "    \n",
    "    project = row['dialogflow_project_id']\n",
    "    spreadsheet_id = row['google_spreadsheet_id']\n",
    "    \n",
    "    # Get the project data we need\n",
    "    df = pd.read_sql(f\"SELECT `identifier`, `item_key`, `item_value` FROM `data_pieces` WHERE `project` = '{project}'\", dbConnection)\n",
    "    columns_df = pd.read_sql(f\"SELECT * FROM `column_tracker` WHERE `project` = '{project}'\", dbConnection)\n",
    "    text_df = pd.read_sql(f\"SELECT * FROM `text_log` WHERE `project` = '{project}'\", dbConnection)\n",
    "    first_contact_df = pd.read_sql(f\"SELECT * FROM `first_contact` WHERE `project` = '{project}'\", dbConnection)\n",
    "    \n",
    "    # pivot all the data pieces so columns along the top, identfiers as rows\n",
    "    pivoted = df.pivot(index='identifier', columns='item_key', values=['item_value'])\n",
    "    \n",
    "    # flatten the column headers\n",
    "    pivoted.columns = pivoted.columns.get_level_values(1)\n",
    "    pivoted.reset_index(inplace=True) \n",
    "    \n",
    "    # sort the columns by order they were created\n",
    "    columns_df.sort_values(by=['created_at'], inplace=True)\n",
    "    \n",
    "    # recorder the columns of the pivoted table\n",
    "    ordered_columns = columns_df['col'].tolist()\n",
    "    ordered_columns.insert(0, \"identifier\")\n",
    "    pivoted_ordered = pivoted[ordered_columns]\n",
    "    \n",
    "    # on the text_df (or log) table, do a \"group by\" by identifier\n",
    "    # and also concatinate the items in the group\n",
    "    text_concat = text_df.groupby(['identifier'])['raw_text'].apply(' | '.join).reset_index()\n",
    "\n",
    "    # add the \"raw_text\" column to the table so far\n",
    "    merge1 = pd.merge(pivoted_ordered, text_concat, on=\"identifier\")\n",
    "    \n",
    "    # sort the list of first-contacts, and merge into the final table\n",
    "    first_contact_df.sort_values(by=['created_at'], inplace=True)\n",
    "    final_table = pd.merge(first_contact_df, merge1, on=\"identifier\")\n",
    "    \n",
    "    # drop the project columns from the final_table for the spreadsheet\n",
    "    final_table.drop(columns=['proj_ident_hash', 'project'], inplace = True)\n",
    "    \n",
    "    # establish the project spreadsheet and update the first sheet\n",
    "    spread = Spread(spreadsheet_id)\n",
    "    spread.df_to_sheet(final_table, index=False, sheet='Sheet1', start='A1', replace=True)\n",
    "    \n",
    "    print(f\"Spreadsheet for {row['friendly_name']} updated.\")\n",
    "    "
   ]
  },
  {
   "cell_type": "code",
   "execution_count": 21,
   "metadata": {},
   "outputs": [],
   "source": [
    "# close the database\n",
    "dbConnection.close()"
   ]
  },
  {
   "cell_type": "code",
   "execution_count": 22,
   "metadata": {},
   "outputs": [
    {
     "name": "stdout",
     "output_type": "stream",
     "text": [
      "All updates complete.\n"
     ]
    }
   ],
   "source": [
    "print(\"All updates complete.\")"
   ]
  }
 ],
 "metadata": {
  "kernelspec": {
   "display_name": "Python 3",
   "language": "python",
   "name": "python3"
  },
  "language_info": {
   "codemirror_mode": {
    "name": "ipython",
    "version": 3
   },
   "file_extension": ".py",
   "mimetype": "text/x-python",
   "name": "python",
   "nbconvert_exporter": "python",
   "pygments_lexer": "ipython3",
   "version": "3.7.7"
  }
 },
 "nbformat": 4,
 "nbformat_minor": 4
}
