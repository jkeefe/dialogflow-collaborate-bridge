{
 "cells": [
  {
   "cell_type": "markdown",
   "metadata": {},
   "source": [
    "## Packages"
   ]
  },
  {
   "cell_type": "markdown",
   "metadata": {},
   "source": [
    "From termainal I did:\n",
    "\n",
    "```\n",
    "pipenv install\n",
    "pipenv install jupyter pymysql sqlalchemy requests\n",
    "```\n"
   ]
  },
  {
   "cell_type": "code",
   "execution_count": 81,
   "metadata": {},
   "outputs": [],
   "source": [
    "import pymysql.cursors\n",
    "import requests\n",
    "from datetime import datetime\n",
    "from sqlalchemy import create_engine\n",
    "import hashlib \n",
    "import os\n",
    "import json\n",
    "import time\n",
    "from collections import defaultdict\n",
    "from flask import jsonify\n",
    "import re\n",
    "\n",
    "# variables we'll need\n",
    "host = os.environ['DBHOST']\n",
    "port = 3306\n",
    "dbname = \"collab\"\n",
    "user = os.environ['DBUSER']\n",
    "password = os.environ['DBPASSWORD']"
   ]
  },
  {
   "cell_type": "code",
   "execution_count": 90,
   "metadata": {},
   "outputs": [],
   "source": [
    "def checkId(goog_data):\n",
    "    \n",
    "    # grab the last bit of the session ID to use as default\n",
    "    # this regex does that somehow! :-)\n",
    "    session = re.search(r'([^-]+$)', goog_data['session']).group(1)\n",
    "    \n",
    "    # no source, so return the session ID\n",
    "    if 'source' not in goog_data['originalDetectIntentRequest'].keys():\n",
    "        return f'test-session-{session}'\n",
    "\n",
    "    \n",
    "    # for twilio, it's the From phone number\n",
    "    if goog_data['originalDetectIntentRequest']['source'] == \"twilio\":\n",
    "        return goog_data['originalDetectIntentRequest']['payload']['data']['From']\n",
    "    \n",
    "    # otherwise we have an unknown platform\n",
    "    return f'unknown platform {session}'"
   ]
  },
  {
   "cell_type": "code",
   "execution_count": 97,
   "metadata": {},
   "outputs": [],
   "source": [
    "def update_first_contact(connection, now, identifier):\n",
    "        \n",
    "    ## Add a new item to the first_contact, but chill \n",
    "    ## if it already exists\n",
    "\n",
    "    sql = \"INSERT IGNORE INTO first_contact (`created_at`, `identifier`) VALUES (%s, %s)\"\n",
    "\n",
    "    with connection.cursor() as cursor:\n",
    "            # Create a new record\n",
    "            cursor.execute(sql, ( now, identifier ))\n",
    "\n",
    "    connection.commit()\n",
    "    \n",
    "    return True"
   ]
  },
  {
   "cell_type": "code",
   "execution_count": 98,
   "metadata": {},
   "outputs": [],
   "source": [
    "def insert_into_log(connection, now, identifier, key, value):\n",
    "    \n",
    "    # Create a new record\n",
    "    sql = \"INSERT INTO `log` (`created_at`, `identifier`, `item_key`, `item_value`) VALUES (%s, %s, %s, %s)\"\n",
    "\n",
    "    with connection.cursor() as cursor:\n",
    "            # Create a new record\n",
    "            cursor.execute(sql, ( now, identifier, key, value ))\n",
    "\n",
    "    connection.commit()\n",
    "    \n",
    "    return True"
   ]
  },
  {
   "cell_type": "code",
   "execution_count": 99,
   "metadata": {},
   "outputs": [],
   "source": [
    "def update_column_tracker(connection, now, column):\n",
    "\n",
    "    # Create a new record\n",
    "    sql = \"INSERT IGNORE INTO `column_tracker` (`created_at`, `col`) VALUES (%s, %s)\"\n",
    "\n",
    "    with connection.cursor() as cursor:\n",
    "            # Create a new record\n",
    "            cursor.execute(sql, ( now, column ))\n",
    "\n",
    "    connection.commit()\n",
    "    \n",
    "    return True"
   ]
  },
  {
   "cell_type": "code",
   "execution_count": 100,
   "metadata": {},
   "outputs": [],
   "source": [
    "#### Main function ####\n",
    "\n",
    "def handler(incoming):\n",
    "    \n",
    "    # incoming data will be structured as described\n",
    "    # here: https:#cloud.google.com/dialogflow/docs/fulfillment-webhook#webhook_request\n",
    "    \n",
    "    #PROD from_google = incoming.json\n",
    "    from_google = incoming ### for testing only\n",
    "    \n",
    "    # Open the database connection\n",
    "    connection = pymysql.connect(host=host,\n",
    "                                 user=user,\n",
    "                                 password=password,\n",
    "                                 db=dbname,\n",
    "                                 charset='utf8mb4',\n",
    "                                 cursorclass=pymysql.cursors.DictCursor)\n",
    "    \n",
    "    identifier = checkId(from_google)\n",
    "    user_said = from_google['queryResult']['queryText']\n",
    "    now = datetime.now().isoformat(sep=' ', timespec='seconds') # => '2020-05-12 18:54:54'\n",
    "    \n",
    "    # Update the first_contact\n",
    "    update_first_contact(connection, now, identifier)\n",
    "    \n",
    "    ## Add the intent as a column and a log item\n",
    "    intent = from_google['queryResult']['intent']['displayName']\n",
    "    update_column_tracker(connection, now, intent)\n",
    "    insert_into_log(connection, now, identifier, intent, user_said) \n",
    "    \n",
    "    ## Add every parameter as a column & log item\n",
    "    parameters = from_google['queryResult']['parameters']\n",
    "    \n",
    "    for key in parameters.keys():\n",
    "        update_column_tracker(connection, now, key)\n",
    "        insert_into_log(connection, now, identifier, key, parameters[key])\n",
    "    \n",
    "    ## Add the raw text into the log\n",
    "    insert_into_log(connection, now, identifier, \"raw_text\", user_said) \n",
    "    \n",
    "    # close the database\n",
    "    connection.close()\n",
    "    \n",
    "    # send back to google the messages already established there\n",
    "    to_google = {\n",
    "        \"fulfillmentMessages\": from_google['queryResult']['fulfillmentMessages']\n",
    "    }\n",
    "    \n",
    "    #PROD return jsonify(to_google)\n",
    "    return (to_google)"
   ]
  },
  {
   "cell_type": "code",
   "execution_count": null,
   "metadata": {},
   "outputs": [],
   "source": []
  },
  {
   "cell_type": "code",
   "execution_count": 101,
   "metadata": {},
   "outputs": [],
   "source": [
    "test_payload = {\n",
    "    \"responseId\": \"a96d4f9c-7b85-4a04-8b43-be609c8c695e-0f0e27e1\",\n",
    "    \"queryResult\": {\n",
    "        \"queryText\": \"Hello\",\n",
    "        \"action\": \"input.welcome\",\n",
    "        \"parameters\": {},\n",
    "        \"allRequiredParamsPresent\": True,\n",
    "        \"fulfillmentText\": \"Hello! What city are you in now?\",\n",
    "        \"fulfillmentMessages\": [\n",
    "            {\n",
    "                \"text\": {\n",
    "                    \"text\": [\n",
    "                        \"Hello! What city are you in now?\"\n",
    "                    ]\n",
    "                }\n",
    "            }\n",
    "        ],\n",
    "        \"outputContexts\": [\n",
    "            {\n",
    "                \"name\": \"projects/propublicafruittest-pyrata/agent/sessions/96c6d41c-b1b0-e1f8-4ca7-7e9945fa1a0a/contexts/waiting-city\",\n",
    "                \"lifespanCount\": 5\n",
    "            },\n",
    "            {\n",
    "                \"name\": \"projects/propublicafruittest-pyrata/agent/sessions/96c6d41c-b1b0-e1f8-4ca7-7e9945fa1a0a/contexts/__system_counters__\",\n",
    "                \"parameters\": {\n",
    "                    \"no-input\": 0,\n",
    "                    \"no-match\": 0\n",
    "                }\n",
    "            }\n",
    "        ],\n",
    "        \"intent\": {\n",
    "            \"name\": \"projects/propublicafruittest-pyrata/agent/intents/10d4a02d-ac4c-4669-8782-8beffec91447\",\n",
    "            \"displayName\": \"Default Welcome Intent\"\n",
    "        },\n",
    "        \"intentDetectionConfidence\": 1,\n",
    "        \"languageCode\": \"en\"\n",
    "    },\n",
    "    \"originalDetectIntentRequest\": {\n",
    "        \"payload\": {}\n",
    "    },\n",
    "    \"session\": \"projects/propublicafruittest-pyrata/agent/sessions/96c6d41c-b1b0-e1f8-4ca7-7e9945fa1a0a\"\n",
    "}"
   ]
  },
  {
   "cell_type": "code",
   "execution_count": 102,
   "metadata": {},
   "outputs": [
    {
     "data": {
      "text/plain": [
       "{'fulfillmentMessages': [{'text': {'text': ['Hello! What city are you in now?']}}]}"
      ]
     },
     "execution_count": 102,
     "metadata": {},
     "output_type": "execute_result"
    }
   ],
   "source": [
    "## Trying it\n",
    "handler(test_payload)"
   ]
  },
  {
   "cell_type": "code",
   "execution_count": null,
   "metadata": {},
   "outputs": [],
   "source": []
  },
  {
   "cell_type": "code",
   "execution_count": null,
   "metadata": {},
   "outputs": [],
   "source": []
  }
 ],
 "metadata": {
  "kernelspec": {
   "display_name": "Python 3",
   "language": "python",
   "name": "python3"
  },
  "language_info": {
   "codemirror_mode": {
    "name": "ipython",
    "version": 3
   },
   "file_extension": ".py",
   "mimetype": "text/x-python",
   "name": "python",
   "nbconvert_exporter": "python",
   "pygments_lexer": "ipython3",
   "version": "3.7.7"
  }
 },
 "nbformat": 4,
 "nbformat_minor": 4
}
